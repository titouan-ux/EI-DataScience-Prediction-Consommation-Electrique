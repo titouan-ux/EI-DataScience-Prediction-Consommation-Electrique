{
 "cells": [
  {
   "cell_type": "markdown",
   "metadata": {},
   "source": [
    "1) Importer les librairies classiques : numpy, pandas, sklearn.svm, seaborn et matplolib"
   ]
  },
  {
   "cell_type": "code",
   "execution_count": 3,
   "metadata": {},
   "outputs": [],
   "source": [
    "import numpy as np\n",
    "import pandas as pd\n",
    "#import seaborn\n",
    "import matplotlib.pyplot as plt"
   ]
  },
  {
   "cell_type": "markdown",
   "metadata": {},
   "source": [
    "2) Lire le fichier < iris_SVM.csv > avec pandas"
   ]
  },
  {
   "cell_type": "code",
   "execution_count": 4,
   "metadata": {},
   "outputs": [
    {
     "data": {
      "text/html": [
       "<div>\n",
       "<style scoped>\n",
       "    .dataframe tbody tr th:only-of-type {\n",
       "        vertical-align: middle;\n",
       "    }\n",
       "\n",
       "    .dataframe tbody tr th {\n",
       "        vertical-align: top;\n",
       "    }\n",
       "\n",
       "    .dataframe thead th {\n",
       "        text-align: right;\n",
       "    }\n",
       "</style>\n",
       "<table border=\"1\" class=\"dataframe\">\n",
       "  <thead>\n",
       "    <tr style=\"text-align: right;\">\n",
       "      <th></th>\n",
       "      <th>petal_length</th>\n",
       "      <th>petal_width</th>\n",
       "      <th>species</th>\n",
       "    </tr>\n",
       "  </thead>\n",
       "  <tbody>\n",
       "    <tr>\n",
       "      <th>0</th>\n",
       "      <td>1.4</td>\n",
       "      <td>0.2</td>\n",
       "      <td>0</td>\n",
       "    </tr>\n",
       "    <tr>\n",
       "      <th>1</th>\n",
       "      <td>1.4</td>\n",
       "      <td>0.2</td>\n",
       "      <td>0</td>\n",
       "    </tr>\n",
       "    <tr>\n",
       "      <th>2</th>\n",
       "      <td>1.3</td>\n",
       "      <td>0.2</td>\n",
       "      <td>0</td>\n",
       "    </tr>\n",
       "    <tr>\n",
       "      <th>3</th>\n",
       "      <td>1.5</td>\n",
       "      <td>0.2</td>\n",
       "      <td>0</td>\n",
       "    </tr>\n",
       "    <tr>\n",
       "      <th>4</th>\n",
       "      <td>1.4</td>\n",
       "      <td>0.2</td>\n",
       "      <td>0</td>\n",
       "    </tr>\n",
       "    <tr>\n",
       "      <th>...</th>\n",
       "      <td>...</td>\n",
       "      <td>...</td>\n",
       "      <td>...</td>\n",
       "    </tr>\n",
       "    <tr>\n",
       "      <th>95</th>\n",
       "      <td>4.2</td>\n",
       "      <td>1.2</td>\n",
       "      <td>1</td>\n",
       "    </tr>\n",
       "    <tr>\n",
       "      <th>96</th>\n",
       "      <td>4.2</td>\n",
       "      <td>1.3</td>\n",
       "      <td>1</td>\n",
       "    </tr>\n",
       "    <tr>\n",
       "      <th>97</th>\n",
       "      <td>4.3</td>\n",
       "      <td>1.3</td>\n",
       "      <td>1</td>\n",
       "    </tr>\n",
       "    <tr>\n",
       "      <th>98</th>\n",
       "      <td>3.0</td>\n",
       "      <td>1.1</td>\n",
       "      <td>1</td>\n",
       "    </tr>\n",
       "    <tr>\n",
       "      <th>99</th>\n",
       "      <td>4.1</td>\n",
       "      <td>1.3</td>\n",
       "      <td>1</td>\n",
       "    </tr>\n",
       "  </tbody>\n",
       "</table>\n",
       "<p>100 rows × 3 columns</p>\n",
       "</div>"
      ],
      "text/plain": [
       "    petal_length  petal_width  species\n",
       "0            1.4          0.2        0\n",
       "1            1.4          0.2        0\n",
       "2            1.3          0.2        0\n",
       "3            1.5          0.2        0\n",
       "4            1.4          0.2        0\n",
       "..           ...          ...      ...\n",
       "95           4.2          1.2        1\n",
       "96           4.2          1.3        1\n",
       "97           4.3          1.3        1\n",
       "98           3.0          1.1        1\n",
       "99           4.1          1.3        1\n",
       "\n",
       "[100 rows x 3 columns]"
      ]
     },
     "execution_count": 4,
     "metadata": {},
     "output_type": "execute_result"
    }
   ],
   "source": [
    "df=pd.read_csv('iris_SVM.csv',sep=\";\",decimal=',')\n",
    "df"
   ]
  },
  {
   "cell_type": "markdown",
   "metadata": {},
   "source": [
    "3) Lire les trois premières lignes du fichier. Donner le nombre de lignes et de colonnes "
   ]
  },
  {
   "cell_type": "code",
   "execution_count": 5,
   "metadata": {},
   "outputs": [
    {
     "name": "stdout",
     "output_type": "stream",
     "text": [
      "(100, 3)\n"
     ]
    },
    {
     "data": {
      "text/html": [
       "<div>\n",
       "<style scoped>\n",
       "    .dataframe tbody tr th:only-of-type {\n",
       "        vertical-align: middle;\n",
       "    }\n",
       "\n",
       "    .dataframe tbody tr th {\n",
       "        vertical-align: top;\n",
       "    }\n",
       "\n",
       "    .dataframe thead th {\n",
       "        text-align: right;\n",
       "    }\n",
       "</style>\n",
       "<table border=\"1\" class=\"dataframe\">\n",
       "  <thead>\n",
       "    <tr style=\"text-align: right;\">\n",
       "      <th></th>\n",
       "      <th>petal_length</th>\n",
       "      <th>petal_width</th>\n",
       "      <th>species</th>\n",
       "    </tr>\n",
       "  </thead>\n",
       "  <tbody>\n",
       "    <tr>\n",
       "      <th>0</th>\n",
       "      <td>1.4</td>\n",
       "      <td>0.2</td>\n",
       "      <td>0</td>\n",
       "    </tr>\n",
       "    <tr>\n",
       "      <th>1</th>\n",
       "      <td>1.4</td>\n",
       "      <td>0.2</td>\n",
       "      <td>0</td>\n",
       "    </tr>\n",
       "    <tr>\n",
       "      <th>2</th>\n",
       "      <td>1.3</td>\n",
       "      <td>0.2</td>\n",
       "      <td>0</td>\n",
       "    </tr>\n",
       "  </tbody>\n",
       "</table>\n",
       "</div>"
      ],
      "text/plain": [
       "   petal_length  petal_width  species\n",
       "0           1.4          0.2        0\n",
       "1           1.4          0.2        0\n",
       "2           1.3          0.2        0"
      ]
     },
     "execution_count": 5,
     "metadata": {},
     "output_type": "execute_result"
    }
   ],
   "source": [
    "print(df.shape)\n",
    "df[:][0:3]\n"
   ]
  },
  {
   "cell_type": "markdown",
   "metadata": {},
   "source": [
    "4) Créer trois listes(array) petal_length,petal_width et species"
   ]
  },
  {
   "cell_type": "code",
   "execution_count": 6,
   "metadata": {},
   "outputs": [],
   "source": [
    "petal_length=np.array(df['petal_length'])\n",
    "petal_width=np.array(df['petal_width'])\n",
    "species=np.array(df['species'])"
   ]
  },
  {
   "cell_type": "markdown",
   "metadata": {},
   "source": [
    "5) Tracer sur la même figure les nuages de point de \"petal_width\" en fonction de \"petal_length\". Les points seront de couleurs différentes selon leur catégorie respective dans \"species\" \n",
    "\n",
    "Les 2 couleurs suivantes sont à utiliser: vert pour setosa, rouge pour versicolor. Mettre une légande sur le  graphe "
   ]
  },
  {
   "cell_type": "code",
   "execution_count": 7,
   "metadata": {},
   "outputs": [
    {
     "data": {
      "image/png": "[encoded data removed]",
      "text/plain": [
       "<Figure size 432x288 with 1 Axes>"
      ]
     },
     "metadata": {
      "needs_background": "light"
     },
     "output_type": "display_data"
    }
   ],
   "source": [
    "#création de 4 listes pour spéarer sedosa et versicolor pour le tracé\n",
    "setosa=[]\n",
    "versicolor=[]\n",
    "length_s=[]\n",
    "length_v=[]\n",
    "\n",
    "for i in range(len(petal_width)):\n",
    "    #on suppose que 0,1 correspond respectivement au setosa et versicolor \n",
    "    if species[i]==0:\n",
    "        setosa.append(petal_width[i])\n",
    "        length_s.append(petal_length[i])\n",
    "    else :\n",
    "        versicolor.append(petal_width[i])\n",
    "        length_v.append(petal_length[i])        \n",
    "\n",
    "plt.plot(length_s,setosa,'g.',label='setosa')\n",
    "plt.plot(length_v,versicolor,'r.',label='versicolor')\n",
    "plt.legend()\n",
    "plt.show()"
   ]
  },
  {
   "cell_type": "markdown",
   "metadata": {},
   "source": [
    "6) Placer sur la figure précédente un point noir correspondant à un nouveau échantillon de fleur dont la pétale a les dimensions suivantes:\n",
    "    largeur = 2,5 cm et longueur = 0,75 cm"
   ]
  },
  {
   "cell_type": "code",
   "execution_count": 8,
   "metadata": {},
   "outputs": [
    {
     "data": {
      "image/png": "[encoded data removed]",
      "text/plain": [
       "<Figure size 432x288 with 1 Axes>"
      ]
     },
     "metadata": {
      "needs_background": "light"
     },
     "output_type": "display_data"
    }
   ],
   "source": [
    "plt.plot(length_s,setosa,'g.',label='setosa')\n",
    "plt.plot(length_v,versicolor,'r.',label='versicolor')\n",
    "#introduction nouv\n",
    "plt.plot([2.5],[0.75],'k.',label='nouvel échantillon')\n",
    "plt.legend()\n",
    "plt.show()"
   ]
  },
  {
   "cell_type": "markdown",
   "metadata": {},
   "source": [
    "7) Séparer les données en X_train, X_test, Y_train, Y_test (80% pour entrainement)"
   ]
  },
  {
   "cell_type": "code",
   "execution_count": 14,
   "metadata": {},
   "outputs": [
    {
     "data": {
      "text/plain": [
       "array([[1.5],\n",
       "       [0.2],\n",
       "       [4.5],\n",
       "       [1.5],\n",
       "       [4.2],\n",
       "       [1.5],\n",
       "       [1.4],\n",
       "       [0.2],\n",
       "       [1.6],\n",
       "       [0.6],\n",
       "       [4. ],\n",
       "       [1.3],\n",
       "       [3.5],\n",
       "       [1. ],\n",
       "       [1.5],\n",
       "       [0.2],\n",
       "       [4.6],\n",
       "       [1.5],\n",
       "       [4.7],\n",
       "       [1.6],\n",
       "       [1.5],\n",
       "       [0.1],\n",
       "       [1.5],\n",
       "       [0.2],\n",
       "       [3.3],\n",
       "       [1. ],\n",
       "       [1.3],\n",
       "       [0.2],\n",
       "       [1.6],\n",
       "       [0.4],\n",
       "       [1.5],\n",
       "       [0.4],\n",
       "       [1.5],\n",
       "       [0.4],\n",
       "       [1. ],\n",
       "       [0.2],\n",
       "       [4. ],\n",
       "       [1.3],\n",
       "       [4.5],\n",
       "       [1.5],\n",
       "       [4.3],\n",
       "       [1.3],\n",
       "       [1.9],\n",
       "       [0.2],\n",
       "       [4.5],\n",
       "       [1.5],\n",
       "       [4.2],\n",
       "       [1.3],\n",
       "       [1.4],\n",
       "       [0.2],\n",
       "       [4. ],\n",
       "       [1.3],\n",
       "       [1.7],\n",
       "       [0.5],\n",
       "       [1.7],\n",
       "       [0.3],\n",
       "       [1.5],\n",
       "       [0.4],\n",
       "       [3.5],\n",
       "       [1. ],\n",
       "       [4.4],\n",
       "       [1.3],\n",
       "       [4. ],\n",
       "       [1. ],\n",
       "       [4.3],\n",
       "       [1.3],\n",
       "       [4.5],\n",
       "       [1.3],\n",
       "       [4.8],\n",
       "       [1.8],\n",
       "       [1.5],\n",
       "       [0.3],\n",
       "       [1.4],\n",
       "       [0.2],\n",
       "       [1.3],\n",
       "       [0.2],\n",
       "       [4.9],\n",
       "       [1.5],\n",
       "       [1.5],\n",
       "       [0.1],\n",
       "       [4.7],\n",
       "       [1.5],\n",
       "       [4.4],\n",
       "       [1.2],\n",
       "       [4.9],\n",
       "       [1.5],\n",
       "       [1.7],\n",
       "       [0.4],\n",
       "       [4.5],\n",
       "       [1.5],\n",
       "       [1.4],\n",
       "       [0.1],\n",
       "       [3.7],\n",
       "       [1. ],\n",
       "       [1.3],\n",
       "       [0.2],\n",
       "       [4.5],\n",
       "       [1.6],\n",
       "       [1.4],\n",
       "       [0.3],\n",
       "       [1.7],\n",
       "       [0.2],\n",
       "       [4.7],\n",
       "       [1.4],\n",
       "       [3.9],\n",
       "       [1.2],\n",
       "       [4.6],\n",
       "       [1.4],\n",
       "       [1.5],\n",
       "       [0.2],\n",
       "       [4.2],\n",
       "       [1.2],\n",
       "       [1.5],\n",
       "       [0.2],\n",
       "       [1.3],\n",
       "       [0.3],\n",
       "       [1.3],\n",
       "       [0.4],\n",
       "       [1.6],\n",
       "       [0.2],\n",
       "       [1.6],\n",
       "       [0.2],\n",
       "       [1.9],\n",
       "       [0.4],\n",
       "       [1.1],\n",
       "       [0.1],\n",
       "       [1.3],\n",
       "       [0.3],\n",
       "       [1.4],\n",
       "       [0.3],\n",
       "       [1.2],\n",
       "       [0.2],\n",
       "       [4.2],\n",
       "       [1.3],\n",
       "       [4.7],\n",
       "       [1.2],\n",
       "       [4.7],\n",
       "       [1.4],\n",
       "       [3.9],\n",
       "       [1.4],\n",
       "       [3.3],\n",
       "       [1. ],\n",
       "       [1.4],\n",
       "       [0.2],\n",
       "       [4.1],\n",
       "       [1. ],\n",
       "       [1.5],\n",
       "       [0.2],\n",
       "       [1.4],\n",
       "       [0.2],\n",
       "       [1.4],\n",
       "       [0.2],\n",
       "       [5. ],\n",
       "       [1.7],\n",
       "       [1.6],\n",
       "       [0.2],\n",
       "       [4.8],\n",
       "       [1.4],\n",
       "       [4.6],\n",
       "       [1.3]])"
      ]
     },
     "execution_count": 14,
     "metadata": {},
     "output_type": "execute_result"
    }
   ],
   "source": [
    "from sklearn.model_selection import train_test_split\n",
    "#Séparation des données en 4 listes avec des données test de 20%\n",
    "X_train, X_test, Y_train, Y_test = train_test_split(df[['petal_length','petal_width']],df['species'],test_size=0.2)\n",
    "X_train.values.reshape(-1,1)"
   ]
  },
  {
   "cell_type": "markdown",
   "metadata": {},
   "source": [
    "8) Entrainement, test en utilisant l'algorithme SVM (SVC= pour classification,  SVR : pour regression)"
   ]
  },
  {
   "cell_type": "code",
   "execution_count": 10,
   "metadata": {},
   "outputs": [
    {
     "data": {
      "text/plain": [
       "array([0, 1, 0, 1, 1, 0, 0, 0, 1, 1, 0, 1, 1, 0, 1, 0, 0, 0, 1, 0])"
      ]
     },
     "execution_count": 10,
     "metadata": {},
     "output_type": "execute_result"
    }
   ],
   "source": [
    "from sklearn.svm import SVC\n",
    "\n",
    "\n",
    "model_svc=SVC(kernel='linear',shrinking=False)\n",
    "model_svc.fit(X_train,Y_train)\n",
    "\n",
    "#y_t=np.reshape(Y_test,(-1,1))\n",
    "Y_predict=model_svc.predict(X_test)\n",
    "\n",
    "Y_predict"
   ]
  },
  {
   "cell_type": "markdown",
   "metadata": {},
   "source": [
    "9) Vérifier le score \"from sklearn.metrics import accuracy_score\""
   ]
  },
  {
   "cell_type": "code",
   "execution_count": 11,
   "metadata": {},
   "outputs": [
    {
     "name": "stdout",
     "output_type": "stream",
     "text": [
      "1.0\n"
     ]
    }
   ],
   "source": [
    "from sklearn.metrics import accuracy_score\n",
    "\n",
    "print(model_svc.score(X_test,Y_test))"
   ]
  },
  {
   "cell_type": "markdown",
   "metadata": {},
   "source": [
    "10) Tracer le plan (droite) de séparation entre les classes"
   ]
  },
  {
   "cell_type": "code",
   "execution_count": 12,
   "metadata": {},
   "outputs": [
    {
     "data": {
      "image/png": "[encoded data removed]",
      "text/plain": [
       "<Figure size 1080x720 with 1 Axes>"
      ]
     },
     "metadata": {
      "needs_background": "light"
     },
     "output_type": "display_data"
    }
   ],
   "source": [
    " \n",
    "w = model_svc.coef_[0]\n",
    "a = -w[0] / w[1]\n",
    " \n",
    "xx = np.linspace(0,6)\n",
    "yy = a * xx - model_svc.intercept_[0] / w[1]\n",
    "y_neg = a * xx - model_svc.intercept_[0] / w[1] + 1\n",
    "y_pos = a * xx - model_svc.intercept_[0] / w[1] - 1\n",
    "\n",
    "plt.figure(1,figsize= (15, 10))\n",
    "\n",
    "plt.plot(xx, yy, 'k',\n",
    "         label=f\"Decision frontière (y ={w[0]}x1  + {w[1]}x2  {model_svc.intercept_[0] })\")\n",
    "plt.plot(xx, y_neg, 'r-.',\n",
    "         label=f\"Neg Decision frontière (-1 ={w[0]}x1  + {w[1]}x2  {model_svc.intercept_[0] })\")\n",
    "plt.plot(xx, y_pos, 'g-.',\n",
    "         label=f\"Pos Decision frontière (1 ={w[0]}x1  + {w[1]}x2  {model_svc.intercept_[0] })\")\n",
    " \n",
    "plt.plot(length_s,setosa,'g.',label='setosa')\n",
    "plt.plot(length_v,versicolor,'r.',label='versicolor')\n",
    "#introduction nouv\n",
    "plt.plot([2.5],[0.75],'k.',label='nouvel échantillon')\n",
    "plt.legend()\n",
    "plt.show()"
   ]
  },
  {
   "cell_type": "code",
   "execution_count": null,
   "metadata": {},
   "outputs": [],
   "source": []
  }
 ],
 "metadata": {
  "interpreter": {
   "hash": "89b5ea6e21ceb2bed76e39e77b6a205b5c57f008a7cbb26e49cf5438ec27c36d"
  },
  "kernelspec": {
   "display_name": "Python 3.8.13",
   "language": "python",
   "name": "python3"
  },
  "language_info": {
   "codemirror_mode": {
    "name": "ipython",
    "version": 3
   },
   "file_extension": ".py",
   "mimetype": "text/x-python",
   "name": "python",
   "nbconvert_exporter": "python",
   "pygments_lexer": "ipython3",
   "version": "3.8.13"
  }
 },
 "nbformat": 4,
 "nbformat_minor": 4
}

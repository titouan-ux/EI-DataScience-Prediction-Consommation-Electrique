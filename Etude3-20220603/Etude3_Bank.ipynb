{
 "cells": [
  {
   "cell_type": "markdown",
   "metadata": {},
   "source": [
    "# KNN  \n",
    "Premier exemple      Bank"
   ]
  },
  {
   "cell_type": "code",
   "execution_count": null,
   "metadata": {},
   "outputs": [],
   "source": []
  },
  {
   "cell_type": "code",
   "execution_count": null,
   "metadata": {},
   "outputs": [],
   "source": []
  },
  {
   "cell_type": "markdown",
   "metadata": {},
   "source": [
    "0) Importer les librairies classiques : numpy, pandas, seaborn et matplolib"
   ]
  },
  {
   "cell_type": "code",
   "execution_count": 2,
   "metadata": {},
   "outputs": [],
   "source": [
    "import numpy as np\n",
    "import pandas as pd\n",
    "import seaborn\n",
    "import matplotlib.pyplot as plt"
   ]
  },
  {
   "cell_type": "markdown",
   "metadata": {},
   "source": [
    "1) Lire le fichier Bank.csv avec pandas"
   ]
  },
  {
   "cell_type": "code",
   "execution_count": 3,
   "metadata": {},
   "outputs": [
    {
     "data": {
      "text/html": [
       "<div>\n",
       "<style scoped>\n",
       "    .dataframe tbody tr th:only-of-type {\n",
       "        vertical-align: middle;\n",
       "    }\n",
       "\n",
       "    .dataframe tbody tr th {\n",
       "        vertical-align: top;\n",
       "    }\n",
       "\n",
       "    .dataframe thead th {\n",
       "        text-align: right;\n",
       "    }\n",
       "</style>\n",
       "<table border=\"1\" class=\"dataframe\">\n",
       "  <thead>\n",
       "    <tr style=\"text-align: right;\">\n",
       "      <th></th>\n",
       "      <th>age du client</th>\n",
       "      <th>montant du prêt</th>\n",
       "      <th>défaut</th>\n",
       "    </tr>\n",
       "  </thead>\n",
       "  <tbody>\n",
       "    <tr>\n",
       "      <th>0</th>\n",
       "      <td>25</td>\n",
       "      <td>40000</td>\n",
       "      <td>0</td>\n",
       "    </tr>\n",
       "    <tr>\n",
       "      <th>1</th>\n",
       "      <td>35</td>\n",
       "      <td>60000</td>\n",
       "      <td>0</td>\n",
       "    </tr>\n",
       "    <tr>\n",
       "      <th>2</th>\n",
       "      <td>45</td>\n",
       "      <td>80000</td>\n",
       "      <td>0</td>\n",
       "    </tr>\n",
       "    <tr>\n",
       "      <th>3</th>\n",
       "      <td>20</td>\n",
       "      <td>20000</td>\n",
       "      <td>0</td>\n",
       "    </tr>\n",
       "    <tr>\n",
       "      <th>4</th>\n",
       "      <td>35</td>\n",
       "      <td>120000</td>\n",
       "      <td>0</td>\n",
       "    </tr>\n",
       "    <tr>\n",
       "      <th>5</th>\n",
       "      <td>52</td>\n",
       "      <td>18000</td>\n",
       "      <td>0</td>\n",
       "    </tr>\n",
       "    <tr>\n",
       "      <th>6</th>\n",
       "      <td>23</td>\n",
       "      <td>95000</td>\n",
       "      <td>1</td>\n",
       "    </tr>\n",
       "    <tr>\n",
       "      <th>7</th>\n",
       "      <td>40</td>\n",
       "      <td>62000</td>\n",
       "      <td>1</td>\n",
       "    </tr>\n",
       "    <tr>\n",
       "      <th>8</th>\n",
       "      <td>60</td>\n",
       "      <td>100000</td>\n",
       "      <td>1</td>\n",
       "    </tr>\n",
       "    <tr>\n",
       "      <th>9</th>\n",
       "      <td>48</td>\n",
       "      <td>220000</td>\n",
       "      <td>1</td>\n",
       "    </tr>\n",
       "    <tr>\n",
       "      <th>10</th>\n",
       "      <td>33</td>\n",
       "      <td>150000</td>\n",
       "      <td>1</td>\n",
       "    </tr>\n",
       "  </tbody>\n",
       "</table>\n",
       "</div>"
      ],
      "text/plain": [
       "    age du client  montant du prêt  défaut\n",
       "0              25            40000       0\n",
       "1              35            60000       0\n",
       "2              45            80000       0\n",
       "3              20            20000       0\n",
       "4              35           120000       0\n",
       "5              52            18000       0\n",
       "6              23            95000       1\n",
       "7              40            62000       1\n",
       "8              60           100000       1\n",
       "9              48           220000       1\n",
       "10             33           150000       1"
      ]
     },
     "execution_count": 3,
     "metadata": {},
     "output_type": "execute_result"
    }
   ],
   "source": [
    "#ouverture du fichier csv avec séparation des données par le ; \n",
    "df=pd.read_csv('Bank.csv', sep=',',header=0, index_col=0)\n",
    "df"
   ]
  },
  {
   "cell_type": "markdown",
   "metadata": {},
   "source": [
    "2) Créer les 2 dataframes suivants:\n",
    "- X contenant les colonnes 'age du client','montant du prêt' \n",
    "- et y contenant la colonne \"défaut\""
   ]
  },
  {
   "cell_type": "code",
   "execution_count": 19,
   "metadata": {},
   "outputs": [
    {
     "name": "stdout",
     "output_type": "stream",
     "text": [
      "0     0\n",
      "1     0\n",
      "2     0\n",
      "3     0\n",
      "4     0\n",
      "5     0\n",
      "6     1\n",
      "7     1\n",
      "8     1\n",
      "9     1\n",
      "10    1\n",
      "Name: défaut, dtype: int64\n"
     ]
    }
   ],
   "source": [
    "#On retire la colone défaut à df pour X\n",
    "X=df.drop(['défaut'],axis=1)\n",
    "#On retire les colonnes age et pret à df pour Y \n",
    "Y=df.drop(['age du client', 'montant du prêt'],axis=1)\n"
   ]
  },
  {
   "cell_type": "markdown",
   "metadata": {},
   "source": [
    "2bis) Afficher les prêts des \"bons\" clients"
   ]
  },
  {
   "cell_type": "code",
   "execution_count": 22,
   "metadata": {},
   "outputs": [
    {
     "name": "stdout",
     "output_type": "stream",
     "text": [
      "[40000, 60000, 80000, 20000, 120000, 18000]\n"
     ]
    }
   ],
   "source": [
    "#liste pour les montants des prêts des bons clients\n",
    "prets_bons_clients=[]\n",
    "for i in range(len(Y)):\n",
    "    #test si client n'a pas de défauts\n",
    "    if Y['défaut'][i]==0:\n",
    "        prets_bons_clients.append(X['montant du prêt'][i])\n",
    "print(prets_bons_clients)"
   ]
  },
  {
   "cell_type": "markdown",
   "metadata": {},
   "source": [
    "3) Tracer le nuage de points \"montant du prêt\" en fonction de \"age du client\", les points étant de couleurs différentes suivant leur catégorie respective dans la colonne \"défaut\""
   ]
  },
  {
   "cell_type": "code",
   "execution_count": 23,
   "metadata": {},
   "outputs": [
    {
     "data": {
      "image/png": "[encoded data removed]",
      "text/plain": [
       "<Figure size 432x288 with 1 Axes>"
      ]
     },
     "metadata": {
      "needs_background": "light"
     },
     "output_type": "display_data"
    }
   ],
   "source": [
    "for i in range(len(X)):\n",
    "    #test si le prêt du client est dans la liste des prêts des bons client\n",
    "    if X['montant du prêt'][i] in prets_bons_clients:\n",
    "        #Afficher en bleu si bon client\n",
    "        plt.plot(X['age du client'][i],X['montant du prêt'][i],'b*')\n",
    "    else:\n",
    "        #Afficher en rouge si mauvais client\n",
    "        plt.plot(X['age du client'][i],X['montant du prêt'][i],'r*')\n",
    "\n",
    "plt.ylabel('montant du pret')\n",
    "plt.xlabel('age')\n",
    "plt.show()\n"
   ]
  },
  {
   "cell_type": "markdown",
   "metadata": {},
   "source": [
    "3bis) Placer le client ([[25,30000]]) dans la figure précédente"
   ]
  },
  {
   "cell_type": "code",
   "execution_count": 31,
   "metadata": {},
   "outputs": [
    {
     "data": {
      "image/png": "[encoded data removed]",
      "text/plain": [
       "<Figure size 432x288 with 1 Axes>"
      ]
     },
     "metadata": {
      "needs_background": "light"
     },
     "output_type": "display_data"
    }
   ],
   "source": [
    "for i in range(len(X1[1])):\n",
    "    if X['montant du prêt'][i] in prets_bons_clients:\n",
    "        plt.plot(X['age du client'][i],X['montant du prêt'][i],'b*')\n",
    "    else:\n",
    "        plt.plot(X['age du client'][i],X['montant du prêt'][i],'r*')\n",
    "\n",
    "#Ajout d'un point vert pourle client demandé\n",
    "plt.plot([25],[3000],'g*')\n",
    "\n",
    "#Ajout d'un point noir pour un client qui nous servira pour le test du modèle\n",
    "plt.plot([27],[175000],'k*')\n",
    "\n",
    "plt.ylabel('montant du pret')\n",
    "plt.xlabel('age')\n",
    "plt.show()\n"
   ]
  },
  {
   "cell_type": "markdown",
   "metadata": {},
   "source": [
    "4) Entrainement et test avec l'algorithme KNN. Est ce le résutat dépend de la valeur de K? Vérifier"
   ]
  },
  {
   "cell_type": "code",
   "execution_count": 45,
   "metadata": {},
   "outputs": [
    {
     "data": {
      "image/png": "[encoded data removed]",
      "text/plain": [
       "<Figure size 432x288 with 1 Axes>"
      ]
     },
     "metadata": {
      "needs_background": "light"
     },
     "output_type": "display_data"
    },
    {
     "data": {
      "image/png": "[encoded data removed]",
      "text/plain": [
       "<Figure size 432x288 with 1 Axes>"
      ]
     },
     "metadata": {
      "needs_background": "light"
     },
     "output_type": "display_data"
    },
    {
     "name": "stderr",
     "output_type": "stream",
     "text": [
      "/Users/titouan/opt/anaconda3/lib/python3.8/site-packages/sklearn/neighbors/_classification.py:179: DataConversionWarning: A column-vector y was passed when a 1d array was expected. Please change the shape of y to (n_samples,), for example using ravel().\n",
      "  return self._fit(X, y)\n",
      "/Users/titouan/opt/anaconda3/lib/python3.8/site-packages/sklearn/neighbors/_classification.py:179: DataConversionWarning: A column-vector y was passed when a 1d array was expected. Please change the shape of y to (n_samples,), for example using ravel().\n",
      "  return self._fit(X, y)\n",
      "/Users/titouan/opt/anaconda3/lib/python3.8/site-packages/sklearn/neighbors/_classification.py:179: DataConversionWarning: A column-vector y was passed when a 1d array was expected. Please change the shape of y to (n_samples,), for example using ravel().\n",
      "  return self._fit(X, y)\n",
      "/Users/titouan/opt/anaconda3/lib/python3.8/site-packages/sklearn/neighbors/_classification.py:179: DataConversionWarning: A column-vector y was passed when a 1d array was expected. Please change the shape of y to (n_samples,), for example using ravel().\n",
      "  return self._fit(X, y)\n"
     ]
    },
    {
     "data": {
      "image/png": "[encoded data removed]",
      "text/plain": [
       "<Figure size 432x288 with 1 Axes>"
      ]
     },
     "metadata": {
      "needs_background": "light"
     },
     "output_type": "display_data"
    }
   ],
   "source": [
    "from sklearn.model_selection import train_test_split\n",
    "#Séparation des données en 4 listes avec des données test de 40%\n",
    "X_train, X_test, Y_train, Y_test = train_test_split(X,Y,test_size=0.4)\n",
    "\n",
    "from sklearn.neighbors import  KNeighborsClassifier\n",
    "\n",
    "#liste pour rentrer la précision du modèle pour chaque k\n",
    "precision_k=[]\n",
    "\n",
    "#liste pour rentrer la précision du modèle pour chaque k\n",
    "ls_prediction=[]\n",
    "\n",
    "#On fait varier le k\n",
    "for k in range(2,6):\n",
    "    knn = KNeighborsClassifier(n_neighbors = k )\n",
    "    #entrainement du modèle knn\n",
    "    knn.fit(X_train,Y_train.values.ravel())\n",
    "    precision_k.append((knn.score(X_test,Y_test)))\n",
    "    prediction=knn.predict([[25,3000]])\n",
    "    ls_prediction.append(prediction)\n",
    "\n",
    "plt.plot([2,3,4,5],precision_k,'r*')\n",
    "plt.title('Precision du modèle selon k ')\n",
    "plt.show()\n",
    "#On observe bien une variation de la precision selon k\n",
    "\n",
    "plt.plot([2,3,4,5],ls_prediction,'k*')\n",
    "plt.title('Prédiction pour un client [25,3000] selon k ')\n",
    "plt.show()\n",
    "#la prediction reste la même\n",
    "\n",
    "#On réalise la même chose en changeant la valeur du point estimé pou run supposé mauvais client\n",
    "\n",
    "#liste pour avoir le résultat de la prédiction du modèle \n",
    "ls_prediction1=[]\n",
    "\n",
    "for k in range(2,6):\n",
    "    knn = KNeighborsClassifier(n_neighbors = k )\n",
    "    #entrainement du modèle knn\n",
    "    knn.fit(X_train,Y_train)\n",
    "    prediction=knn.predict([[27,175000]])\n",
    "    ls_prediction1.append(prediction)\n",
    "\n",
    "plt.plot([2,3,4,5],ls_prediction1,'k*')\n",
    "plt.title('Prédiction pour un client [27,175000] selon k ')\n",
    "plt.show()\n",
    "#On a bien une prédiction de 1 qui est stable"
   ]
  }
 ],
 "metadata": {
  "interpreter": {
   "hash": "6809ed8a35337f3a27b071f62b35d4692d9130abc381b82b2f84ea8d71c60dfb"
  },
  "kernelspec": {
   "display_name": "Python 3.8.8 ('base')",
   "language": "python",
   "name": "python3"
  },
  "language_info": {
   "codemirror_mode": {
    "name": "ipython",
    "version": 3
   },
   "file_extension": ".py",
   "mimetype": "text/x-python",
   "name": "python",
   "nbconvert_exporter": "python",
   "pygments_lexer": "ipython3",
   "version": "3.8.8"
  }
 },
 "nbformat": 4,
 "nbformat_minor": 4
}

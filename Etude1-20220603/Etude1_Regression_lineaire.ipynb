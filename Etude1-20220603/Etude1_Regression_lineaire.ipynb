{
 "cells": [
  {
   "cell_type": "markdown",
   "metadata": {},
   "source": [
    "## Modèles"
   ]
  },
  {
   "cell_type": "markdown",
   "metadata": {},
   "source": [
    "#### Regressions (linéaire et non linéaire), KNN, SVR"
   ]
  },
  {
   "cell_type": "markdown",
   "metadata": {},
   "source": [
    "### Regression linéaire\n",
    "<br>LinearRegression ajuste un modèle linéaire avec des coefficients w = (w1,…, wp) pour minimiser la somme <br> résiduelle des carrés entre les cibles observées dans le jeu de données et les cibles prédites par l'approximation linéaire."
   ]
  },
  {
   "cell_type": "code",
   "execution_count": 1,
   "metadata": {},
   "outputs": [],
   "source": [
    "import numpy as np\n",
    "import pandas as pd\n",
    "import seaborn\n",
    "import matplotlib.pyplot as plt\n"
   ]
  },
  {
   "cell_type": "markdown",
   "metadata": {},
   "source": [
    "2) Lire le fichier U_I.csv avec pandas "
   ]
  },
  {
   "cell_type": "code",
   "execution_count": 2,
   "metadata": {},
   "outputs": [],
   "source": [
    "#ouverture du fichier csv avec séparation des données par le ; \n",
    "data=pd.read_csv('U_I.csv',sep=';')\n"
   ]
  },
  {
   "cell_type": "markdown",
   "metadata": {},
   "source": [
    "3) Pour chaque colonne dans le tableau de données, donner le nombre d'éléments, les valeurs max, min"
   ]
  },
  {
   "cell_type": "code",
   "execution_count": 3,
   "metadata": {},
   "outputs": [
    {
     "name": "stdout",
     "output_type": "stream",
     "text": [
      "100 400.0 10.0\n",
      "100 50.01238216155669 7.874309119918944\n"
     ]
    }
   ],
   "source": [
    "#Affichage du nombre d'éléments, de l avaleur max et min de la tension U\n",
    "print(len(data['U']),data['U'].max(),data['U'].min())\n",
    "#Affichage du nombre d'éléments, de l avaleur max et min de la tension I\n",
    "print(len(data['I']),data['I'].max(),data['I'].min())\n",
    "\n"
   ]
  },
  {
   "cell_type": "markdown",
   "metadata": {},
   "source": [
    "4) Tracer I(U), sous forme de nuage de points"
   ]
  },
  {
   "cell_type": "code",
   "execution_count": 4,
   "metadata": {},
   "outputs": [
    {
     "data": {
      "image/png": "[encoded data removed]",
      "text/plain": [
       "<Figure size 432x288 with 1 Axes>"
      ]
     },
     "metadata": {
      "needs_background": "light"
     },
     "output_type": "display_data"
    }
   ],
   "source": [
    "plt.plot(data['U'],data['I'],'.')\n",
    "plt.show()"
   ]
  },
  {
   "cell_type": "markdown",
   "metadata": {},
   "source": [
    "5) Séparer les deux collones du fichier en 4 listes de données X_train, X_test, Y_train, Y_test avec 80% pour train\n",
    "   et 20% pour test en utilisant: from sklearn.model_selection import train_test_split"
   ]
  },
  {
   "cell_type": "code",
   "execution_count": 5,
   "metadata": {},
   "outputs": [],
   "source": [
    "#Séparation des données en 4 listes avec des données test de 20%\n",
    "from sklearn.model_selection import train_test_split\n",
    "\n",
    "X_train, X_test, Y_train, Y_test = train_test_split(data['U'],data['I'],test_size=0.2)\n",
    "\n"
   ]
  },
  {
   "cell_type": "markdown",
   "metadata": {},
   "source": [
    "6) Vérifier le pourcentage de la séparation. Afficher 5 élement de X_train à partir de l'élement 25. Comparer les avec ui_df['U'] "
   ]
  },
  {
   "cell_type": "code",
   "execution_count": 14,
   "metadata": {},
   "outputs": [
    {
     "name": "stdout",
     "output_type": "stream",
     "text": [
      "80 20\n",
      "80 20\n",
      "93    376.363636\n",
      "17     76.969697\n",
      "45    187.272727\n",
      "8      41.515152\n",
      "11     53.333333\n",
      "Name: U, dtype: float64\n"
     ]
    },
    {
     "data": {
      "text/html": [
       "<div>\n",
       "<style scoped>\n",
       "    .dataframe tbody tr th:only-of-type {\n",
       "        vertical-align: middle;\n",
       "    }\n",
       "\n",
       "    .dataframe tbody tr th {\n",
       "        vertical-align: top;\n",
       "    }\n",
       "\n",
       "    .dataframe thead th {\n",
       "        text-align: right;\n",
       "    }\n",
       "</style>\n",
       "<table border=\"1\" class=\"dataframe\">\n",
       "  <thead>\n",
       "    <tr style=\"text-align: right;\">\n",
       "      <th></th>\n",
       "      <th>U</th>\n",
       "      <th>I</th>\n",
       "    </tr>\n",
       "  </thead>\n",
       "  <tbody>\n",
       "    <tr>\n",
       "      <th>25</th>\n",
       "      <td>108.484848</td>\n",
       "      <td>40.625466</td>\n",
       "    </tr>\n",
       "    <tr>\n",
       "      <th>26</th>\n",
       "      <td>112.424242</td>\n",
       "      <td>37.249370</td>\n",
       "    </tr>\n",
       "    <tr>\n",
       "      <th>27</th>\n",
       "      <td>116.363636</td>\n",
       "      <td>38.378460</td>\n",
       "    </tr>\n",
       "    <tr>\n",
       "      <th>28</th>\n",
       "      <td>120.303030</td>\n",
       "      <td>36.845355</td>\n",
       "    </tr>\n",
       "    <tr>\n",
       "      <th>29</th>\n",
       "      <td>124.242424</td>\n",
       "      <td>38.621752</td>\n",
       "    </tr>\n",
       "  </tbody>\n",
       "</table>\n",
       "</div>"
      ],
      "text/plain": [
       "             U          I\n",
       "25  108.484848  40.625466\n",
       "26  112.424242  37.249370\n",
       "27  116.363636  38.378460\n",
       "28  120.303030  36.845355\n",
       "29  124.242424  38.621752"
      ]
     },
     "execution_count": 14,
     "metadata": {},
     "output_type": "execute_result"
    }
   ],
   "source": [
    "print(len(X_train),len(X_test))\n",
    "print(len(Y_train),len(Y_test))\n",
    "print(X_train[25:30])\n",
    "data[25:30]\n",
    "\n",
    "#On voit donc que les 5 élements de Xtrain sont pris aléatoirement dans la base data"
   ]
  },
  {
   "cell_type": "markdown",
   "metadata": {},
   "source": [
    "7) Redimensionner X_train,Y_train, X_test et Y_test en utilisant la méthode \"reshape\", e.g.\n",
    "x_train=X_train.values.reshape(-1,1)"
   ]
  },
  {
   "cell_type": "code",
   "execution_count": 17,
   "metadata": {},
   "outputs": [
    {
     "name": "stdout",
     "output_type": "stream",
     "text": [
      "<class 'pandas.core.series.Series'>\n",
      "[[151.81818182]\n",
      " [372.42424242]\n",
      " [163.63636364]\n",
      " [400.        ]\n",
      " [159.6969697 ]\n",
      " [ 17.87878788]\n",
      " [313.33333333]\n",
      " [277.87878788]\n",
      " [234.54545455]\n",
      " [203.03030303]\n",
      " [120.3030303 ]\n",
      " [254.24242424]\n",
      " [297.57575758]\n",
      " [384.24242424]\n",
      " [ 45.45454545]\n",
      " [289.6969697 ]\n",
      " [112.42424242]\n",
      " [340.90909091]\n",
      " [ 92.72727273]\n",
      " [364.54545455]] <class 'numpy.ndarray'>\n"
     ]
    }
   ],
   "source": [
    "#Remise en forme des donées pour obtenir des matrices et plus des dataframes\n",
    "u_train=X_train.values.reshape(-1,1)\n",
    "i_train=Y_train.values.reshape(-1,1)\n",
    "u_test=X_test.values.reshape(-1,1)\n",
    "i_test=Y_test.values.reshape(-1,1)\n"
   ]
  },
  {
   "cell_type": "markdown",
   "metadata": {},
   "source": [
    "7) Tracer sur la même figure les nuages de points des données \"train\" et \"test\""
   ]
  },
  {
   "cell_type": "code",
   "execution_count": 8,
   "metadata": {},
   "outputs": [
    {
     "data": {
      "image/png": "[encoded data removed]",
      "text/plain": [
       "<Figure size 432x288 with 1 Axes>"
      ]
     },
     "metadata": {
      "needs_background": "light"
     },
     "output_type": "display_data"
    }
   ],
   "source": [
    "plt.plot(u_train,i_train,'k.')\n",
    "plt.plot(u_test,i_test,'r.')\n",
    "plt.show()"
   ]
  },
  {
   "cell_type": "markdown",
   "metadata": {},
   "source": [
    "8) Entrainer un modèle de régression linéaire avec les données \"train\". Calculer les coefficients de détermination (R²) pour les données \"train\" et \"test\" respectivement\n",
    "https://lexique.netmath.ca/coefficient-de-determination/"
   ]
  },
  {
   "cell_type": "code",
   "execution_count": 19,
   "metadata": {},
   "outputs": [
    {
     "data": {
      "text/plain": [
       "(0.9789964526056005, 0.9761377669786149)"
      ]
     },
     "execution_count": 19,
     "metadata": {},
     "output_type": "execute_result"
    }
   ],
   "source": [
    "from sklearn.linear_model import LinearRegression\n",
    "model=LinearRegression()\n",
    "\n",
    "#entrainement du modèle avec les données d'entrainement\n",
    "model.fit(u_train,i_train)\n",
    "\n",
    "#Prédiction du résultat avec le modèle pour les données de test\n",
    "i_predict=model.predict(u_test)\n",
    "\n",
    "#Coefficient de détermination pour les données train et test avec le modèle ci-dessus\n",
    "model.score(u_train,i_train), model.score(u_test,i_test)\n"
   ]
  },
  {
   "cell_type": "markdown",
   "metadata": {},
   "source": [
    "9) Tracer le nuage des points des données et tracer la droite donnée par le modèle"
   ]
  },
  {
   "cell_type": "code",
   "execution_count": 10,
   "metadata": {},
   "outputs": [
    {
     "data": {
      "image/png": "[encoded data removed]",
      "text/plain": [
       "<Figure size 432x288 with 1 Axes>"
      ]
     },
     "metadata": {
      "needs_background": "light"
     },
     "output_type": "display_data"
    }
   ],
   "source": [
    "plt.plot(u_test,i_predict,'r')\n",
    "plt.plot(data['U'],data['I'],'k.')\n",
    "plt.show()"
   ]
  },
  {
   "cell_type": "markdown",
   "metadata": {},
   "source": [
    "10) Vérifer la valeur de courant pour U=100V. Mettre ce point sur le graphique précédent"
   ]
  },
  {
   "cell_type": "code",
   "execution_count": 22,
   "metadata": {},
   "outputs": [
    {
     "name": "stdout",
     "output_type": "stream",
     "text": [
      "[[40.28018609]]\n",
      "40.28018609494046\n"
     ]
    },
    {
     "data": {
      "image/png": "[encoded data removed]",
      "text/plain": [
       "<Figure size 432x288 with 1 Axes>"
      ]
     },
     "metadata": {
      "needs_background": "light"
     },
     "output_type": "display_data"
    }
   ],
   "source": [
    "#1ère méthode : faire une prédiction du modèle pour le seul point U=100V\n",
    "print(model.predict([[100.]]))\n",
    "\n",
    "#2ème méthode : Calcul de pente et d'ordonée à l'origine pour avoir l'équation de courbe du modèle et l'évaluer en U=100V\n",
    "pente=model.coef_[0,0]\n",
    "y0=model.intercept_[0]\n",
    "print(y0+pente*100)\n",
    "\n",
    "plt.plot(u_test,i_predict,'r')\n",
    "plt.plot(data['U'],data['I'],'k.')\n",
    "plt.plot([100],[y0+pente*100],'g*')\n",
    "plt.show()\n"
   ]
  }
 ],
 "metadata": {
  "interpreter": {
   "hash": "6809ed8a35337f3a27b071f62b35d4692d9130abc381b82b2f84ea8d71c60dfb"
  },
  "kernelspec": {
   "display_name": "Python 3.8.8 ('base')",
   "language": "python",
   "name": "python3"
  },
  "language_info": {
   "codemirror_mode": {
    "name": "ipython",
    "version": 3
   },
   "file_extension": ".py",
   "mimetype": "text/x-python",
   "name": "python",
   "nbconvert_exporter": "python",
   "pygments_lexer": "ipython3",
   "version": "3.8.8"
  }
 },
 "nbformat": 4,
 "nbformat_minor": 4
}
